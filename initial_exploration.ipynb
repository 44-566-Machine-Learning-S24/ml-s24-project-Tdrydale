{
 "cells": [
  {
   "cell_type": "markdown",
   "id": "da141429-1d48-4a7b-a1e3-100fae332679",
   "metadata": {},
   "source": [
    "## Part 1 - Pull in a data set and look at it\n",
    "\n",
    "The question I had for my project was \"given details on an apartment can we predict what the rent will be for it\", I had a lot of trouble trying to find a good dataset on apartments that had data that didn't look fake or that was overall going to be usefull. I decided to go with \"given details on a house can we predict what we can sell it for\", I found this question to be a lot easier to find datasets for.\n",
    "\n",
    "https://www.kaggle.com/datasets/ahmedshahriarsakib/usa-real-estate-dataset?resource=download"
   ]
  },
  {
   "cell_type": "code",
   "execution_count": 1,
   "id": "a6cc6ee5-ac4a-4aa1-bc73-7228835ec0b6",
   "metadata": {},
   "outputs": [
    {
     "name": "stderr",
     "output_type": "stream",
     "text": [
      "C:\\Users\\S553834\\AppData\\Local\\Temp\\ipykernel_6732\\4228088225.py:1: DeprecationWarning: \n",
      "Pyarrow will become a required dependency of pandas in the next major release of pandas (pandas 3.0),\n",
      "(to allow more performant data types, such as the Arrow string type, and better interoperability with other libraries)\n",
      "but was not found to be installed on your system.\n",
      "If this would cause problems for you,\n",
      "please provide us feedback at https://github.com/pandas-dev/pandas/issues/54466\n",
      "        \n",
      "  import pandas as pd\n"
     ]
    },
    {
     "name": "stdout",
     "output_type": "stream",
     "text": [
      "Index(['bed', 'bath', 'acre_lot', 'state', 'house_size', 'price'], dtype='object')\n"
     ]
    },
    {
     "data": {
      "text/html": [
       "<div>\n",
       "<style scoped>\n",
       "    .dataframe tbody tr th:only-of-type {\n",
       "        vertical-align: middle;\n",
       "    }\n",
       "\n",
       "    .dataframe tbody tr th {\n",
       "        vertical-align: top;\n",
       "    }\n",
       "\n",
       "    .dataframe thead th {\n",
       "        text-align: right;\n",
       "    }\n",
       "</style>\n",
       "<table border=\"1\" class=\"dataframe\">\n",
       "  <thead>\n",
       "    <tr style=\"text-align: right;\">\n",
       "      <th></th>\n",
       "      <th>bed</th>\n",
       "      <th>bath</th>\n",
       "      <th>acre_lot</th>\n",
       "      <th>state</th>\n",
       "      <th>house_size</th>\n",
       "      <th>price</th>\n",
       "    </tr>\n",
       "  </thead>\n",
       "  <tbody>\n",
       "    <tr>\n",
       "      <th>0</th>\n",
       "      <td>3.0</td>\n",
       "      <td>2.0</td>\n",
       "      <td>0.12</td>\n",
       "      <td>Puerto Rico</td>\n",
       "      <td>920.0</td>\n",
       "      <td>105000.0</td>\n",
       "    </tr>\n",
       "    <tr>\n",
       "      <th>1</th>\n",
       "      <td>4.0</td>\n",
       "      <td>2.0</td>\n",
       "      <td>0.08</td>\n",
       "      <td>Puerto Rico</td>\n",
       "      <td>1527.0</td>\n",
       "      <td>80000.0</td>\n",
       "    </tr>\n",
       "    <tr>\n",
       "      <th>2</th>\n",
       "      <td>2.0</td>\n",
       "      <td>1.0</td>\n",
       "      <td>0.15</td>\n",
       "      <td>Puerto Rico</td>\n",
       "      <td>748.0</td>\n",
       "      <td>67000.0</td>\n",
       "    </tr>\n",
       "    <tr>\n",
       "      <th>3</th>\n",
       "      <td>4.0</td>\n",
       "      <td>2.0</td>\n",
       "      <td>0.10</td>\n",
       "      <td>Puerto Rico</td>\n",
       "      <td>1800.0</td>\n",
       "      <td>145000.0</td>\n",
       "    </tr>\n",
       "    <tr>\n",
       "      <th>4</th>\n",
       "      <td>6.0</td>\n",
       "      <td>2.0</td>\n",
       "      <td>0.05</td>\n",
       "      <td>Puerto Rico</td>\n",
       "      <td>NaN</td>\n",
       "      <td>65000.0</td>\n",
       "    </tr>\n",
       "    <tr>\n",
       "      <th>5</th>\n",
       "      <td>4.0</td>\n",
       "      <td>3.0</td>\n",
       "      <td>0.46</td>\n",
       "      <td>Puerto Rico</td>\n",
       "      <td>2520.0</td>\n",
       "      <td>179000.0</td>\n",
       "    </tr>\n",
       "    <tr>\n",
       "      <th>6</th>\n",
       "      <td>3.0</td>\n",
       "      <td>1.0</td>\n",
       "      <td>0.20</td>\n",
       "      <td>Puerto Rico</td>\n",
       "      <td>2040.0</td>\n",
       "      <td>50000.0</td>\n",
       "    </tr>\n",
       "    <tr>\n",
       "      <th>7</th>\n",
       "      <td>3.0</td>\n",
       "      <td>2.0</td>\n",
       "      <td>0.08</td>\n",
       "      <td>Puerto Rico</td>\n",
       "      <td>1050.0</td>\n",
       "      <td>71600.0</td>\n",
       "    </tr>\n",
       "    <tr>\n",
       "      <th>8</th>\n",
       "      <td>2.0</td>\n",
       "      <td>1.0</td>\n",
       "      <td>0.09</td>\n",
       "      <td>Puerto Rico</td>\n",
       "      <td>1092.0</td>\n",
       "      <td>100000.0</td>\n",
       "    </tr>\n",
       "    <tr>\n",
       "      <th>9</th>\n",
       "      <td>5.0</td>\n",
       "      <td>3.0</td>\n",
       "      <td>7.46</td>\n",
       "      <td>Puerto Rico</td>\n",
       "      <td>5403.0</td>\n",
       "      <td>300000.0</td>\n",
       "    </tr>\n",
       "    <tr>\n",
       "      <th>10</th>\n",
       "      <td>3.0</td>\n",
       "      <td>2.0</td>\n",
       "      <td>13.39</td>\n",
       "      <td>Puerto Rico</td>\n",
       "      <td>1106.0</td>\n",
       "      <td>89000.0</td>\n",
       "    </tr>\n",
       "    <tr>\n",
       "      <th>11</th>\n",
       "      <td>3.0</td>\n",
       "      <td>2.0</td>\n",
       "      <td>0.08</td>\n",
       "      <td>Puerto Rico</td>\n",
       "      <td>1045.0</td>\n",
       "      <td>150000.0</td>\n",
       "    </tr>\n",
       "    <tr>\n",
       "      <th>12</th>\n",
       "      <td>3.0</td>\n",
       "      <td>2.0</td>\n",
       "      <td>0.10</td>\n",
       "      <td>Puerto Rico</td>\n",
       "      <td>4161.0</td>\n",
       "      <td>155000.0</td>\n",
       "    </tr>\n",
       "    <tr>\n",
       "      <th>13</th>\n",
       "      <td>5.0</td>\n",
       "      <td>2.0</td>\n",
       "      <td>0.12</td>\n",
       "      <td>Puerto Rico</td>\n",
       "      <td>1620.0</td>\n",
       "      <td>79000.0</td>\n",
       "    </tr>\n",
       "    <tr>\n",
       "      <th>14</th>\n",
       "      <td>5.0</td>\n",
       "      <td>5.0</td>\n",
       "      <td>0.74</td>\n",
       "      <td>Puerto Rico</td>\n",
       "      <td>2677.0</td>\n",
       "      <td>649000.0</td>\n",
       "    </tr>\n",
       "    <tr>\n",
       "      <th>15</th>\n",
       "      <td>3.0</td>\n",
       "      <td>2.0</td>\n",
       "      <td>0.08</td>\n",
       "      <td>Puerto Rico</td>\n",
       "      <td>1100.0</td>\n",
       "      <td>120000.0</td>\n",
       "    </tr>\n",
       "    <tr>\n",
       "      <th>16</th>\n",
       "      <td>4.0</td>\n",
       "      <td>4.0</td>\n",
       "      <td>0.22</td>\n",
       "      <td>Puerto Rico</td>\n",
       "      <td>3450.0</td>\n",
       "      <td>235000.0</td>\n",
       "    </tr>\n",
       "    <tr>\n",
       "      <th>17</th>\n",
       "      <td>3.0</td>\n",
       "      <td>2.0</td>\n",
       "      <td>0.08</td>\n",
       "      <td>Puerto Rico</td>\n",
       "      <td>1500.0</td>\n",
       "      <td>105000.0</td>\n",
       "    </tr>\n",
       "    <tr>\n",
       "      <th>18</th>\n",
       "      <td>3.0</td>\n",
       "      <td>2.0</td>\n",
       "      <td>3.88</td>\n",
       "      <td>Puerto Rico</td>\n",
       "      <td>4000.0</td>\n",
       "      <td>575000.0</td>\n",
       "    </tr>\n",
       "    <tr>\n",
       "      <th>19</th>\n",
       "      <td>6.0</td>\n",
       "      <td>3.0</td>\n",
       "      <td>0.25</td>\n",
       "      <td>Puerto Rico</td>\n",
       "      <td>1230.0</td>\n",
       "      <td>140000.0</td>\n",
       "    </tr>\n",
       "  </tbody>\n",
       "</table>\n",
       "</div>"
      ],
      "text/plain": [
       "    bed  bath  acre_lot        state  house_size     price\n",
       "0   3.0   2.0      0.12  Puerto Rico       920.0  105000.0\n",
       "1   4.0   2.0      0.08  Puerto Rico      1527.0   80000.0\n",
       "2   2.0   1.0      0.15  Puerto Rico       748.0   67000.0\n",
       "3   4.0   2.0      0.10  Puerto Rico      1800.0  145000.0\n",
       "4   6.0   2.0      0.05  Puerto Rico         NaN   65000.0\n",
       "5   4.0   3.0      0.46  Puerto Rico      2520.0  179000.0\n",
       "6   3.0   1.0      0.20  Puerto Rico      2040.0   50000.0\n",
       "7   3.0   2.0      0.08  Puerto Rico      1050.0   71600.0\n",
       "8   2.0   1.0      0.09  Puerto Rico      1092.0  100000.0\n",
       "9   5.0   3.0      7.46  Puerto Rico      5403.0  300000.0\n",
       "10  3.0   2.0     13.39  Puerto Rico      1106.0   89000.0\n",
       "11  3.0   2.0      0.08  Puerto Rico      1045.0  150000.0\n",
       "12  3.0   2.0      0.10  Puerto Rico      4161.0  155000.0\n",
       "13  5.0   2.0      0.12  Puerto Rico      1620.0   79000.0\n",
       "14  5.0   5.0      0.74  Puerto Rico      2677.0  649000.0\n",
       "15  3.0   2.0      0.08  Puerto Rico      1100.0  120000.0\n",
       "16  4.0   4.0      0.22  Puerto Rico      3450.0  235000.0\n",
       "17  3.0   2.0      0.08  Puerto Rico      1500.0  105000.0\n",
       "18  3.0   2.0      3.88  Puerto Rico      4000.0  575000.0\n",
       "19  6.0   3.0      0.25  Puerto Rico      1230.0  140000.0"
      ]
     },
     "execution_count": 1,
     "metadata": {},
     "output_type": "execute_result"
    }
   ],
   "source": [
    "import pandas as pd\n",
    "\n",
    "data_frame = pd.read_csv(\"Housing_data.gitignored/realtor-data.csv\")\n",
    "print(data_frame.keys())\n",
    "data_frame.head(n=20)"
   ]
  },
  {
   "cell_type": "markdown",
   "id": "3c53b94f-9fc3-452e-9f22-6deb68eb24ff",
   "metadata": {},
   "source": [
    "Removed a lot of the columns that won't be usefull, status, prev_sold_date, and felt like city might be a little too specific.\n",
    "\n",
    "House size is in sq ft, prices look fine for selling houses, i don't think a lot of people are doing to ask for an exact amount of money (ex. $157,642)"
   ]
  },
  {
   "cell_type": "code",
   "execution_count": 2,
   "id": "6b6e60c5-0a6d-4ef1-be2c-97f4f29387cd",
   "metadata": {},
   "outputs": [
    {
     "name": "stdout",
     "output_type": "stream",
     "text": [
      "<class 'pandas.core.frame.DataFrame'>\n",
      "RangeIndex: 1048540 entries, 0 to 1048539\n",
      "Data columns (total 6 columns):\n",
      " #   Column      Non-Null Count    Dtype  \n",
      "---  ------      --------------    -----  \n",
      " 0   bed         904700 non-null   float64\n",
      " 1   bath        925031 non-null   float64\n",
      " 2   acre_lot    729355 non-null   float64\n",
      " 3   state       1048540 non-null  object \n",
      " 4   house_size  706468 non-null   float64\n",
      " 5   price       1048468 non-null  float64\n",
      "dtypes: float64(5), object(1)\n",
      "memory usage: 48.0+ MB\n"
     ]
    }
   ],
   "source": [
    "data_frame.info()"
   ]
  },
  {
   "cell_type": "markdown",
   "id": "901dc5f9-65ba-4665-a800-0d32864c7a3d",
   "metadata": {},
   "source": [
    "There are quite a bit of null values, since this dataset has 1mil entries i'm going to remove the null values"
   ]
  },
  {
   "cell_type": "code",
   "execution_count": 3,
   "id": "e883ee60-e3be-4cea-a84b-d72101a455a7",
   "metadata": {},
   "outputs": [
    {
     "name": "stdout",
     "output_type": "stream",
     "text": [
      "<class 'pandas.core.frame.DataFrame'>\n",
      "Index: 822169 entries, 0 to 1048539\n",
      "Data columns (total 6 columns):\n",
      " #   Column      Non-Null Count   Dtype  \n",
      "---  ------      --------------   -----  \n",
      " 0   bed         817457 non-null  float64\n",
      " 1   bath        819238 non-null  float64\n",
      " 2   acre_lot    614174 non-null  float64\n",
      " 3   state       822169 non-null  object \n",
      " 4   house_size  687262 non-null  float64\n",
      " 5   price       822169 non-null  float64\n",
      "dtypes: float64(5), object(1)\n",
      "memory usage: 43.9+ MB\n"
     ]
    }
   ],
   "source": [
    "data_frame = data_frame.dropna(thresh=5)\n",
    "data_frame.info()"
   ]
  },
  {
   "cell_type": "code",
   "execution_count": 4,
   "id": "2fe5dcce-f71a-475f-b664-d12f38a8ad0d",
   "metadata": {},
   "outputs": [
    {
     "data": {
      "text/plain": [
       "bed\n",
       "3.0     261827\n",
       "4.0     165860\n",
       "2.0     164176\n",
       "1.0      74396\n",
       "5.0      68291\n",
       "6.0      41371\n",
       "7.0      14458\n",
       "8.0      11698\n",
       "9.0       6109\n",
       "10.0      3044\n",
       "12.0      2135\n",
       "11.0      1525\n",
       "13.0       374\n",
       "14.0       354\n",
       "15.0       345\n",
       "18.0       259\n",
       "20.0       242\n",
       "16.0       201\n",
       "24.0       144\n",
       "19.0       127\n",
       "22.0       116\n",
       "17.0        91\n",
       "28.0        54\n",
       "21.0        42\n",
       "46.0        38\n",
       "42.0        30\n",
       "60.0        27\n",
       "86.0        21\n",
       "32.0        21\n",
       "31.0        20\n",
       "27.0        13\n",
       "33.0        11\n",
       "49.0         8\n",
       "29.0         7\n",
       "68.0         6\n",
       "36.0         5\n",
       "40.0         3\n",
       "23.0         3\n",
       "47.0         3\n",
       "30.0         1\n",
       "35.0         1\n",
       "Name: count, dtype: int64"
      ]
     },
     "execution_count": 4,
     "metadata": {},
     "output_type": "execute_result"
    }
   ],
   "source": [
    "data_frame[\"bed\"].value_counts()"
   ]
  },
  {
   "cell_type": "markdown",
   "id": "2b3aac6c-bb78-4cba-add0-b9d5330064c4",
   "metadata": {},
   "source": [
    "86 beds is weird could be a hotel or something, looking at the datasheet it looks like it was one building that was sold multiple times."
   ]
  },
  {
   "cell_type": "code",
   "execution_count": 5,
   "id": "f8bf7db0-0a55-4fb4-ba09-0a00fd08d451",
   "metadata": {},
   "outputs": [
    {
     "data": {
      "text/html": [
       "<div>\n",
       "<style scoped>\n",
       "    .dataframe tbody tr th:only-of-type {\n",
       "        vertical-align: middle;\n",
       "    }\n",
       "\n",
       "    .dataframe tbody tr th {\n",
       "        vertical-align: top;\n",
       "    }\n",
       "\n",
       "    .dataframe thead th {\n",
       "        text-align: right;\n",
       "    }\n",
       "</style>\n",
       "<table border=\"1\" class=\"dataframe\">\n",
       "  <thead>\n",
       "    <tr style=\"text-align: right;\">\n",
       "      <th></th>\n",
       "      <th>bed</th>\n",
       "      <th>bath</th>\n",
       "      <th>acre_lot</th>\n",
       "      <th>house_size</th>\n",
       "      <th>price</th>\n",
       "    </tr>\n",
       "  </thead>\n",
       "  <tbody>\n",
       "    <tr>\n",
       "      <th>count</th>\n",
       "      <td>817457.000000</td>\n",
       "      <td>819238.000000</td>\n",
       "      <td>614174.000000</td>\n",
       "      <td>6.872620e+05</td>\n",
       "      <td>8.221690e+05</td>\n",
       "    </tr>\n",
       "    <tr>\n",
       "      <th>mean</th>\n",
       "      <td>3.442440</td>\n",
       "      <td>2.595488</td>\n",
       "      <td>9.864668</td>\n",
       "      <td>2.157597e+03</td>\n",
       "      <td>9.659422e+05</td>\n",
       "    </tr>\n",
       "    <tr>\n",
       "      <th>std</th>\n",
       "      <td>1.989633</td>\n",
       "      <td>1.660645</td>\n",
       "      <td>677.953175</td>\n",
       "      <td>2.920813e+03</td>\n",
       "      <td>3.079277e+06</td>\n",
       "    </tr>\n",
       "    <tr>\n",
       "      <th>min</th>\n",
       "      <td>1.000000</td>\n",
       "      <td>1.000000</td>\n",
       "      <td>0.000000</td>\n",
       "      <td>1.000000e+02</td>\n",
       "      <td>1.000000e+00</td>\n",
       "    </tr>\n",
       "    <tr>\n",
       "      <th>25%</th>\n",
       "      <td>2.000000</td>\n",
       "      <td>2.000000</td>\n",
       "      <td>0.100000</td>\n",
       "      <td>1.134000e+03</td>\n",
       "      <td>3.159000e+05</td>\n",
       "    </tr>\n",
       "    <tr>\n",
       "      <th>50%</th>\n",
       "      <td>3.000000</td>\n",
       "      <td>2.000000</td>\n",
       "      <td>0.230000</td>\n",
       "      <td>1.659000e+03</td>\n",
       "      <td>5.290000e+05</td>\n",
       "    </tr>\n",
       "    <tr>\n",
       "      <th>75%</th>\n",
       "      <td>4.000000</td>\n",
       "      <td>3.000000</td>\n",
       "      <td>0.700000</td>\n",
       "      <td>2.501000e+03</td>\n",
       "      <td>8.990000e+05</td>\n",
       "    </tr>\n",
       "    <tr>\n",
       "      <th>max</th>\n",
       "      <td>86.000000</td>\n",
       "      <td>56.000000</td>\n",
       "      <td>100000.000000</td>\n",
       "      <td>1.450112e+06</td>\n",
       "      <td>8.750000e+08</td>\n",
       "    </tr>\n",
       "  </tbody>\n",
       "</table>\n",
       "</div>"
      ],
      "text/plain": [
       "                 bed           bath       acre_lot    house_size         price\n",
       "count  817457.000000  819238.000000  614174.000000  6.872620e+05  8.221690e+05\n",
       "mean        3.442440       2.595488       9.864668  2.157597e+03  9.659422e+05\n",
       "std         1.989633       1.660645     677.953175  2.920813e+03  3.079277e+06\n",
       "min         1.000000       1.000000       0.000000  1.000000e+02  1.000000e+00\n",
       "25%         2.000000       2.000000       0.100000  1.134000e+03  3.159000e+05\n",
       "50%         3.000000       2.000000       0.230000  1.659000e+03  5.290000e+05\n",
       "75%         4.000000       3.000000       0.700000  2.501000e+03  8.990000e+05\n",
       "max        86.000000      56.000000  100000.000000  1.450112e+06  8.750000e+08"
      ]
     },
     "execution_count": 5,
     "metadata": {},
     "output_type": "execute_result"
    }
   ],
   "source": [
    "data_frame.describe()"
   ]
  },
  {
   "cell_type": "markdown",
   "id": "d0ce93e9-f0b0-4a91-bf0d-57ceef065452",
   "metadata": {},
   "source": [
    "100000 acres is interesting, I think 100000 acres is a value they put for some of the null values for some reason\n",
    "\n",
    "I'm going to get rid of some of the outliers"
   ]
  },
  {
   "cell_type": "markdown",
   "id": "6d7d86ad-7f4b-478f-93dc-fd7ae17a09be",
   "metadata": {},
   "source": [
    "## Part 2 - Clean the data"
   ]
  },
  {
   "cell_type": "code",
   "execution_count": 6,
   "id": "30ef40e7-3fe9-4a79-af69-29e2c4dd7ce3",
   "metadata": {},
   "outputs": [],
   "source": [
    "filtered_data = data_frame[data_frame[\"bed\"] < 10]\n",
    "filtered_data = filtered_data[filtered_data[\"bath\"] < 10]\n",
    "filtered_data = filtered_data[filtered_data[\"acre_lot\"] < 3]\n",
    "filtered_data = filtered_data[filtered_data[\"house_size\"] < 5000]\n",
    "filtered_data = filtered_data[filtered_data[\"price\"] < 2000000]"
   ]
  },
  {
   "cell_type": "code",
   "execution_count": 7,
   "id": "a31092e6-48a3-432e-8301-64fa132fa3be",
   "metadata": {},
   "outputs": [
    {
     "data": {
      "text/plain": [
       "array([[<Axes: title={'center': 'bed'}>,\n",
       "        <Axes: title={'center': 'bath'}>],\n",
       "       [<Axes: title={'center': 'acre_lot'}>,\n",
       "        <Axes: title={'center': 'house_size'}>],\n",
       "       [<Axes: title={'center': 'price'}>, <Axes: >]], dtype=object)"
      ]
     },
     "execution_count": 7,
     "metadata": {},
     "output_type": "execute_result"
    },
    {
     "data": {
      "image/png": "[encoded data removed]",
      "text/plain": [
       "<Figure size 640x480 with 6 Axes>"
      ]
     },
     "metadata": {},
     "output_type": "display_data"
    }
   ],
   "source": [
    "import matplotlib.pyplot as plt\n",
    "\n",
    "filtered_data.hist(bins=10)"
   ]
  },
  {
   "cell_type": "code",
   "execution_count": 8,
   "id": "a54ca9ff-4759-47f5-af2f-211e6a75935f",
   "metadata": {},
   "outputs": [
    {
     "data": {
      "text/plain": [
       "array([[<Axes: xlabel='bed', ylabel='bed'>,\n",
       "        <Axes: xlabel='bath', ylabel='bed'>,\n",
       "        <Axes: xlabel='acre_lot', ylabel='bed'>,\n",
       "        <Axes: xlabel='house_size', ylabel='bed'>,\n",
       "        <Axes: xlabel='price', ylabel='bed'>],\n",
       "       [<Axes: xlabel='bed', ylabel='bath'>,\n",
       "        <Axes: xlabel='bath', ylabel='bath'>,\n",
       "        <Axes: xlabel='acre_lot', ylabel='bath'>,\n",
       "        <Axes: xlabel='house_size', ylabel='bath'>,\n",
       "        <Axes: xlabel='price', ylabel='bath'>],\n",
       "       [<Axes: xlabel='bed', ylabel='acre_lot'>,\n",
       "        <Axes: xlabel='bath', ylabel='acre_lot'>,\n",
       "        <Axes: xlabel='acre_lot', ylabel='acre_lot'>,\n",
       "        <Axes: xlabel='house_size', ylabel='acre_lot'>,\n",
       "        <Axes: xlabel='price', ylabel='acre_lot'>],\n",
       "       [<Axes: xlabel='bed', ylabel='house_size'>,\n",
       "        <Axes: xlabel='bath', ylabel='house_size'>,\n",
       "        <Axes: xlabel='acre_lot', ylabel='house_size'>,\n",
       "        <Axes: xlabel='house_size', ylabel='house_size'>,\n",
       "        <Axes: xlabel='price', ylabel='house_size'>],\n",
       "       [<Axes: xlabel='bed', ylabel='price'>,\n",
       "        <Axes: xlabel='bath', ylabel='price'>,\n",
       "        <Axes: xlabel='acre_lot', ylabel='price'>,\n",
       "        <Axes: xlabel='house_size', ylabel='price'>,\n",
       "        <Axes: xlabel='price', ylabel='price'>]], dtype=object)"
      ]
     },
     "execution_count": 8,
     "metadata": {},
     "output_type": "execute_result"
    },
    {
     "data": {
      "image/png": "[encoded data removed]",
      "text/plain": [
       "<Figure size 640x480 with 25 Axes>"
      ]
     },
     "metadata": {},
     "output_type": "display_data"
    }
   ],
   "source": [
    "working_set = filtered_data.copy()\n",
    "\n",
    "from pandas.plotting import scatter_matrix\n",
    "\n",
    "compare = [\"bed\", \"bath\", \"acre_lot\", \"house_size\", \"price\"]\n",
    "scatter_matrix(working_set[compare])"
   ]
  },
  {
   "cell_type": "markdown",
   "id": "ced5eb8a-a38b-4320-b26e-f7da4ae7c731",
   "metadata": {},
   "source": [
    "A lot of this looks weird because the values of bed and bath are pretty small so you can see the grouping "
   ]
  },
  {
   "cell_type": "code",
   "execution_count": 9,
   "id": "6a686336-c79e-4f19-b0b2-4745b7e773b1",
   "metadata": {},
   "outputs": [
    {
     "name": "stdout",
     "output_type": "stream",
     "text": [
      "                 bed      bath  acre_lot  house_size     price\n",
      "bed         1.000000  0.543623 -0.031449    0.629906  0.275608\n",
      "bath        0.543623  1.000000  0.139524    0.715188  0.507137\n",
      "acre_lot   -0.031449  0.139524  1.000000    0.215358  0.039177\n",
      "house_size  0.629906  0.715188  0.215358    1.000000  0.485835\n",
      "price       0.275608  0.507137  0.039177    0.485835  1.000000\n"
     ]
    }
   ],
   "source": [
    "corr = filtered_data.corr(numeric_only=True)\n",
    "print(corr)"
   ]
  },
  {
   "cell_type": "markdown",
   "id": "9f35f2cb-d3fc-4c0c-9fe3-7e0c4ed46d09",
   "metadata": {},
   "source": [
    "not a whole lot of correlation, but these values are seperated by states so maybe picking a specific state will help"
   ]
  },
  {
   "cell_type": "code",
   "execution_count": 10,
   "id": "88d5983f-39f4-4bdb-9cc1-f47d61e75035",
   "metadata": {},
   "outputs": [
    {
     "data": {
      "text/plain": [
       "state\n",
       "Massachusetts     85163\n",
       "New York          75999\n",
       "New Jersey        67400\n",
       "Connecticut       62499\n",
       "Rhode Island      22005\n",
       "New Hampshire     18566\n",
       "Maine             16917\n",
       "Puerto Rico       14123\n",
       "Vermont           13942\n",
       "Pennsylvania      12545\n",
       "Delaware           1650\n",
       "Virgin Islands      181\n",
       "West Virginia         5\n",
       "Wyoming               3\n",
       "Name: count, dtype: int64"
      ]
     },
     "execution_count": 10,
     "metadata": {},
     "output_type": "execute_result"
    }
   ],
   "source": [
    "filtered_data[\"state\"].value_counts()"
   ]
  },
  {
   "cell_type": "code",
   "execution_count": 11,
   "id": "88fd58b6-fcbc-4f2d-b7c2-337511d08abf",
   "metadata": {},
   "outputs": [
    {
     "name": "stdout",
     "output_type": "stream",
     "text": [
      "                 bed      bath  acre_lot  house_size     price\n",
      "bed         1.000000  0.414794  0.290705    0.533406  0.377572\n",
      "bath        0.414794  1.000000  0.297610    0.671947  0.626529\n",
      "acre_lot    0.290705  0.297610  1.000000    0.463312  0.543746\n",
      "house_size  0.533406  0.671947  0.463312    1.000000  0.718388\n",
      "price       0.377572  0.626529  0.543746    0.718388  1.000000\n"
     ]
    }
   ],
   "source": [
    "filtered_data = filtered_data[filtered_data[\"state\"] == \"Delaware\"]\n",
    "corr = filtered_data.corr(numeric_only=True)\n",
    "print(corr)"
   ]
  },
  {
   "cell_type": "markdown",
   "id": "ed880ad3-cc6f-4a0a-a89f-221df73d527f",
   "metadata": {},
   "source": [
    "It made it a little better, but there still isn't a major correlation, i'm really surpised that the amount of acres that the house has isn't correlated with the price, maybe because if you have a lot of acres you probably aren't going to be in the city where houses are usually pricier."
   ]
  },
  {
   "cell_type": "markdown",
   "id": "bdcc6638-138f-48d8-832e-969cb508ab9c",
   "metadata": {},
   "source": [
    "I would like to be able to predict the selling price of a house given these other values"
   ]
  },
  {
   "cell_type": "markdown",
   "id": "085cdc78-8b26-4bf4-a83d-44e0cd94bcb9",
   "metadata": {},
   "source": [
    "## Part 3 - Create training/test sets"
   ]
  },
  {
   "cell_type": "code",
   "execution_count": 12,
   "id": "1e6c3fa6-5046-4d67-a7d8-aa43a3403290",
   "metadata": {},
   "outputs": [
    {
     "name": "stdout",
     "output_type": "stream",
     "text": [
      "1320 330\n",
      "        bed  bath  acre_lot     state  house_size     price\n",
      "631054  3.0   2.0      0.19  Delaware      2116.0  230000.0\n",
      "612841  3.0   1.0      0.04  Delaware      1125.0   99900.0\n",
      "631062  3.0   3.0      0.34  Delaware      2480.0  355000.0\n",
      "631678  4.0   3.0      0.14  Delaware      1950.0  315000.0\n",
      "612538  3.0   1.0      0.23  Delaware       950.0  144999.0\n",
      "        bed  bath  acre_lot     state  house_size     price\n",
      "631477  5.0   4.0      0.38  Delaware      3976.0  725000.0\n",
      "612545  2.0   2.0      0.42  Delaware      1300.0  155000.0\n",
      "632266  4.0   2.0      0.02  Delaware      1350.0  180000.0\n",
      "631476  4.0   3.0      0.50  Delaware      3574.0  635000.0\n",
      "612388  2.0   1.0      0.01  Delaware       650.0   72900.0\n"
     ]
    }
   ],
   "source": [
    "import numpy as np\n",
    "def fractional_split(filtered_data, test_fraction=0.2, seed=42):\n",
    "    data_count = len(filtered_data)\n",
    "    test_count = int(test_fraction*data_count)\n",
    "    \n",
    "    np.random.seed(seed)\n",
    "    shuffled_indices = np.random.permutation(data_count)\n",
    "    \n",
    "    test_indices = shuffled_indices[:test_count]\n",
    "    train_indices = shuffled_indices[test_count:]\n",
    "    \n",
    "    return filtered_data.iloc[train_indices], filtered_data.iloc[test_indices]\n",
    "\n",
    "train_set, test_set = fractional_split(filtered_data)\n",
    "\n",
    "print(len(train_set), len(test_set))\n",
    "print(train_set.head())\n",
    "print(test_set.head())"
   ]
  }
 ],
 "metadata": {
  "kernelspec": {
   "display_name": "Python 3 (ipykernel)",
   "language": "python",
   "name": "python3"
  },
  "language_info": {
   "codemirror_mode": {
    "name": "ipython",
    "version": 3
   },
   "file_extension": ".py",
   "mimetype": "text/x-python",
   "name": "python",
   "nbconvert_exporter": "python",
   "pygments_lexer": "ipython3",
   "version": "3.12.2"
  }
 },
 "nbformat": 4,
 "nbformat_minor": 5
}
